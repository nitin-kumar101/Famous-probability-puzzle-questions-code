{
  "nbformat": 4,
  "nbformat_minor": 0,
  "metadata": {
    "colab": {
      "provenance": []
    },
    "kernelspec": {
      "name": "python3",
      "display_name": "Python 3"
    },
    "language_info": {
      "name": "python"
    }
  },
  "cells": [
    {
      "cell_type": "markdown",
      "source": [
        "# This code illustrates famous birthday problem from probability"
      ],
      "metadata": {
        "id": "zvq9xgSdMV3X"
      }
    },
    {
      "cell_type": "markdown",
      "source": [
        "## [One can refer this link for better understanding](https://en.wikipedia.org/wiki/Birthday_problem#:~:text=In%20probability%20theory%2C%20the%20birthday,that%20probability%20to%20exceed%2050%25.)"
      ],
      "metadata": {
        "id": "PNAHHag4MdRZ"
      }
    },
    {
      "cell_type": "code",
      "execution_count": null,
      "metadata": {
        "id": "FWm3_363dPu4"
      },
      "outputs": [],
      "source": [
        "import numpy as np\n",
        "import matplotlib.pyplot as plt"
      ]
    },
    {
      "cell_type": "code",
      "source": [
        "def birthday_p(num,iter):\n",
        " count=0;flag=0\n",
        " for k in range(iter):\n",
        "  ppl = np.random.randint(np.arange(0,num),366)\n",
        "  flag=0\n",
        "  for i in range(num):\n",
        "    for j in range(i+1,num):\n",
        "           if ppl[i]==ppl[j]:\n",
        "              count+=1\n",
        "              flag=1\n",
        "              break\n",
        "    if flag==1:\n",
        "      break\n",
        " return count"
      ],
      "metadata": {
        "id": "lWBIL-k4dh6q"
      },
      "execution_count": null,
      "outputs": []
    },
    {
      "cell_type": "code",
      "source": [
        "n=100\n",
        "count=np.zeros(n)\n",
        "for i in range(n):\n",
        "  count[i]=birthday_p(23,100)\n",
        " # print(count[i])\n",
        "print(count.mean())"
      ],
      "metadata": {
        "colab": {
          "base_uri": "https://localhost:8080/"
        },
        "id": "9Qa4LnxZeCwq",
        "outputId": "459e445b-eb12-45b3-b675-b248794b9491"
      },
      "execution_count": null,
      "outputs": [
        {
          "output_type": "stream",
          "name": "stdout",
          "text": [
            "50.11\n"
          ]
        }
      ]
    },
    {
      "cell_type": "markdown",
      "source": [],
      "metadata": {
        "id": "uaTRhVFUeKsm"
      }
    }
  ]
}