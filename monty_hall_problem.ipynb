{
  "nbformat": 4,
  "nbformat_minor": 0,
  "metadata": {
    "colab": {
      "provenance": []
    },
    "kernelspec": {
      "name": "python3",
      "display_name": "Python 3"
    },
    "language_info": {
      "name": "python"
    }
  },
  "cells": [
    {
      "cell_type": "markdown",
      "source": [
        "# This code illustrates famous monty hall problem from probability"
      ],
      "metadata": {
        "id": "g7Lr3d1Tsz7w"
      }
    },
    {
      "cell_type": "markdown",
      "source": [
        "## [Can refer the link for better understanding](https://en.wikipedia.org/wiki/Monty_Hall_problem)"
      ],
      "metadata": {
        "id": "z8Q6pQW9L_lj"
      }
    },
    {
      "cell_type": "code",
      "execution_count": 1,
      "metadata": {
        "id": "5AoPhrzTHmHJ"
      },
      "outputs": [],
      "source": [
        "import numpy as np\n",
        "import matplotlib.pyplot as plt"
      ]
    },
    {
      "cell_type": "code",
      "source": [
        "def monty_hall(n=3):\n",
        "  y = list(range(1,n+1))\n",
        "  print(\"from:\",y,end=\"\")\n",
        "  c1 = y[np.random.randint(0,3)]\n",
        "  print(\" we choose:\",c1,end=\"\")\n",
        "  y.remove(c1)\n",
        "  if 1 in y:\n",
        "     c3=y[y.index(1)]\n",
        "     y.remove(1)\n",
        "     c2=y[0]\n",
        "     print(\" then monty hall choses:\",c2,end=\"\")\n",
        "  else:\n",
        "    c2 = y[np.random.randint(0,2)]\n",
        "    print(\" then monty hall choses:\",c2,end=\"\")\n",
        "    y.remove(c2)\n",
        "    c3=y[0]\n",
        "  print(\" and if we switch we get:\",c3)\n",
        "  return [c1,c3]"
      ],
      "metadata": {
        "id": "NehCoXV2Hvof"
      },
      "execution_count": 2,
      "outputs": []
    },
    {
      "cell_type": "code",
      "source": [
        "count1,count2,count3=0,0,0\n",
        "for i in range(120):\n",
        "   m = monty_hall()\n",
        "   if m[0]==1:\n",
        "     count1+=1\n",
        "   else:\n",
        "     count3+=1\n",
        "print(\"if we stick with our decision then we win\",count1,\"times but if we change then we win\",count3,\"times\")"
      ],
      "metadata": {
        "colab": {
          "base_uri": "https://localhost:8080/"
        },
        "id": "FEipLHUPlBtt",
        "outputId": "fa874892-c501-4dd2-c567-8f85b94faffc"
      },
      "execution_count": 3,
      "outputs": [
        {
          "output_type": "stream",
          "name": "stdout",
          "text": [
            "from: [1, 2, 3] we choose: 3 then monty hall choses: 2 and if we switch we get: 1\n",
            "from: [1, 2, 3] we choose: 1 then monty hall choses: 2 and if we switch we get: 3\n",
            "from: [1, 2, 3] we choose: 3 then monty hall choses: 2 and if we switch we get: 1\n",
            "from: [1, 2, 3] we choose: 1 then monty hall choses: 2 and if we switch we get: 3\n",
            "from: [1, 2, 3] we choose: 1 then monty hall choses: 2 and if we switch we get: 3\n",
            "from: [1, 2, 3] we choose: 2 then monty hall choses: 3 and if we switch we get: 1\n",
            "from: [1, 2, 3] we choose: 2 then monty hall choses: 3 and if we switch we get: 1\n",
            "from: [1, 2, 3] we choose: 3 then monty hall choses: 2 and if we switch we get: 1\n",
            "from: [1, 2, 3] we choose: 3 then monty hall choses: 2 and if we switch we get: 1\n",
            "from: [1, 2, 3] we choose: 2 then monty hall choses: 3 and if we switch we get: 1\n",
            "from: [1, 2, 3] we choose: 2 then monty hall choses: 3 and if we switch we get: 1\n",
            "from: [1, 2, 3] we choose: 1 then monty hall choses: 3 and if we switch we get: 2\n",
            "from: [1, 2, 3] we choose: 2 then monty hall choses: 3 and if we switch we get: 1\n",
            "from: [1, 2, 3] we choose: 3 then monty hall choses: 2 and if we switch we get: 1\n",
            "from: [1, 2, 3] we choose: 3 then monty hall choses: 2 and if we switch we get: 1\n",
            "from: [1, 2, 3] we choose: 3 then monty hall choses: 2 and if we switch we get: 1\n",
            "from: [1, 2, 3] we choose: 3 then monty hall choses: 2 and if we switch we get: 1\n",
            "from: [1, 2, 3] we choose: 2 then monty hall choses: 3 and if we switch we get: 1\n",
            "from: [1, 2, 3] we choose: 3 then monty hall choses: 2 and if we switch we get: 1\n",
            "from: [1, 2, 3] we choose: 1 then monty hall choses: 3 and if we switch we get: 2\n",
            "from: [1, 2, 3] we choose: 3 then monty hall choses: 2 and if we switch we get: 1\n",
            "from: [1, 2, 3] we choose: 2 then monty hall choses: 3 and if we switch we get: 1\n",
            "from: [1, 2, 3] we choose: 3 then monty hall choses: 2 and if we switch we get: 1\n",
            "from: [1, 2, 3] we choose: 2 then monty hall choses: 3 and if we switch we get: 1\n",
            "from: [1, 2, 3] we choose: 1 then monty hall choses: 2 and if we switch we get: 3\n",
            "from: [1, 2, 3] we choose: 3 then monty hall choses: 2 and if we switch we get: 1\n",
            "from: [1, 2, 3] we choose: 2 then monty hall choses: 3 and if we switch we get: 1\n",
            "from: [1, 2, 3] we choose: 3 then monty hall choses: 2 and if we switch we get: 1\n",
            "from: [1, 2, 3] we choose: 3 then monty hall choses: 2 and if we switch we get: 1\n",
            "from: [1, 2, 3] we choose: 1 then monty hall choses: 3 and if we switch we get: 2\n",
            "from: [1, 2, 3] we choose: 3 then monty hall choses: 2 and if we switch we get: 1\n",
            "from: [1, 2, 3] we choose: 2 then monty hall choses: 3 and if we switch we get: 1\n",
            "from: [1, 2, 3] we choose: 3 then monty hall choses: 2 and if we switch we get: 1\n",
            "from: [1, 2, 3] we choose: 3 then monty hall choses: 2 and if we switch we get: 1\n",
            "from: [1, 2, 3] we choose: 2 then monty hall choses: 3 and if we switch we get: 1\n",
            "from: [1, 2, 3] we choose: 3 then monty hall choses: 2 and if we switch we get: 1\n",
            "from: [1, 2, 3] we choose: 2 then monty hall choses: 3 and if we switch we get: 1\n",
            "from: [1, 2, 3] we choose: 2 then monty hall choses: 3 and if we switch we get: 1\n",
            "from: [1, 2, 3] we choose: 1 then monty hall choses: 2 and if we switch we get: 3\n",
            "from: [1, 2, 3] we choose: 1 then monty hall choses: 2 and if we switch we get: 3\n",
            "from: [1, 2, 3] we choose: 2 then monty hall choses: 3 and if we switch we get: 1\n",
            "from: [1, 2, 3] we choose: 2 then monty hall choses: 3 and if we switch we get: 1\n",
            "from: [1, 2, 3] we choose: 2 then monty hall choses: 3 and if we switch we get: 1\n",
            "from: [1, 2, 3] we choose: 2 then monty hall choses: 3 and if we switch we get: 1\n",
            "from: [1, 2, 3] we choose: 2 then monty hall choses: 3 and if we switch we get: 1\n",
            "from: [1, 2, 3] we choose: 3 then monty hall choses: 2 and if we switch we get: 1\n",
            "from: [1, 2, 3] we choose: 3 then monty hall choses: 2 and if we switch we get: 1\n",
            "from: [1, 2, 3] we choose: 2 then monty hall choses: 3 and if we switch we get: 1\n",
            "from: [1, 2, 3] we choose: 2 then monty hall choses: 3 and if we switch we get: 1\n",
            "from: [1, 2, 3] we choose: 3 then monty hall choses: 2 and if we switch we get: 1\n",
            "from: [1, 2, 3] we choose: 2 then monty hall choses: 3 and if we switch we get: 1\n",
            "from: [1, 2, 3] we choose: 2 then monty hall choses: 3 and if we switch we get: 1\n",
            "from: [1, 2, 3] we choose: 2 then monty hall choses: 3 and if we switch we get: 1\n",
            "from: [1, 2, 3] we choose: 2 then monty hall choses: 3 and if we switch we get: 1\n",
            "from: [1, 2, 3] we choose: 3 then monty hall choses: 2 and if we switch we get: 1\n",
            "from: [1, 2, 3] we choose: 3 then monty hall choses: 2 and if we switch we get: 1\n",
            "from: [1, 2, 3] we choose: 2 then monty hall choses: 3 and if we switch we get: 1\n",
            "from: [1, 2, 3] we choose: 2 then monty hall choses: 3 and if we switch we get: 1\n",
            "from: [1, 2, 3] we choose: 1 then monty hall choses: 2 and if we switch we get: 3\n",
            "from: [1, 2, 3] we choose: 3 then monty hall choses: 2 and if we switch we get: 1\n",
            "from: [1, 2, 3] we choose: 3 then monty hall choses: 2 and if we switch we get: 1\n",
            "from: [1, 2, 3] we choose: 3 then monty hall choses: 2 and if we switch we get: 1\n",
            "from: [1, 2, 3] we choose: 3 then monty hall choses: 2 and if we switch we get: 1\n",
            "from: [1, 2, 3] we choose: 2 then monty hall choses: 3 and if we switch we get: 1\n",
            "from: [1, 2, 3] we choose: 2 then monty hall choses: 3 and if we switch we get: 1\n",
            "from: [1, 2, 3] we choose: 1 then monty hall choses: 3 and if we switch we get: 2\n",
            "from: [1, 2, 3] we choose: 1 then monty hall choses: 3 and if we switch we get: 2\n",
            "from: [1, 2, 3] we choose: 1 then monty hall choses: 2 and if we switch we get: 3\n",
            "from: [1, 2, 3] we choose: 3 then monty hall choses: 2 and if we switch we get: 1\n",
            "from: [1, 2, 3] we choose: 3 then monty hall choses: 2 and if we switch we get: 1\n",
            "from: [1, 2, 3] we choose: 1 then monty hall choses: 3 and if we switch we get: 2\n",
            "from: [1, 2, 3] we choose: 1 then monty hall choses: 3 and if we switch we get: 2\n",
            "from: [1, 2, 3] we choose: 2 then monty hall choses: 3 and if we switch we get: 1\n",
            "from: [1, 2, 3] we choose: 3 then monty hall choses: 2 and if we switch we get: 1\n",
            "from: [1, 2, 3] we choose: 2 then monty hall choses: 3 and if we switch we get: 1\n",
            "from: [1, 2, 3] we choose: 3 then monty hall choses: 2 and if we switch we get: 1\n",
            "from: [1, 2, 3] we choose: 2 then monty hall choses: 3 and if we switch we get: 1\n",
            "from: [1, 2, 3] we choose: 1 then monty hall choses: 3 and if we switch we get: 2\n",
            "from: [1, 2, 3] we choose: 1 then monty hall choses: 2 and if we switch we get: 3\n",
            "from: [1, 2, 3] we choose: 1 then monty hall choses: 2 and if we switch we get: 3\n",
            "from: [1, 2, 3] we choose: 2 then monty hall choses: 3 and if we switch we get: 1\n",
            "from: [1, 2, 3] we choose: 3 then monty hall choses: 2 and if we switch we get: 1\n",
            "from: [1, 2, 3] we choose: 1 then monty hall choses: 3 and if we switch we get: 2\n",
            "from: [1, 2, 3] we choose: 3 then monty hall choses: 2 and if we switch we get: 1\n",
            "from: [1, 2, 3] we choose: 3 then monty hall choses: 2 and if we switch we get: 1\n",
            "from: [1, 2, 3] we choose: 3 then monty hall choses: 2 and if we switch we get: 1\n",
            "from: [1, 2, 3] we choose: 1 then monty hall choses: 2 and if we switch we get: 3\n",
            "from: [1, 2, 3] we choose: 2 then monty hall choses: 3 and if we switch we get: 1\n",
            "from: [1, 2, 3] we choose: 3 then monty hall choses: 2 and if we switch we get: 1\n",
            "from: [1, 2, 3] we choose: 2 then monty hall choses: 3 and if we switch we get: 1\n",
            "from: [1, 2, 3] we choose: 1 then monty hall choses: 2 and if we switch we get: 3\n",
            "from: [1, 2, 3] we choose: 2 then monty hall choses: 3 and if we switch we get: 1\n",
            "from: [1, 2, 3] we choose: 3 then monty hall choses: 2 and if we switch we get: 1\n",
            "from: [1, 2, 3] we choose: 2 then monty hall choses: 3 and if we switch we get: 1\n",
            "from: [1, 2, 3] we choose: 3 then monty hall choses: 2 and if we switch we get: 1\n",
            "from: [1, 2, 3] we choose: 1 then monty hall choses: 3 and if we switch we get: 2\n",
            "from: [1, 2, 3] we choose: 1 then monty hall choses: 2 and if we switch we get: 3\n",
            "from: [1, 2, 3] we choose: 2 then monty hall choses: 3 and if we switch we get: 1\n",
            "from: [1, 2, 3] we choose: 3 then monty hall choses: 2 and if we switch we get: 1\n",
            "from: [1, 2, 3] we choose: 2 then monty hall choses: 3 and if we switch we get: 1\n",
            "from: [1, 2, 3] we choose: 1 then monty hall choses: 3 and if we switch we get: 2\n",
            "from: [1, 2, 3] we choose: 3 then monty hall choses: 2 and if we switch we get: 1\n",
            "from: [1, 2, 3] we choose: 1 then monty hall choses: 3 and if we switch we get: 2\n",
            "from: [1, 2, 3] we choose: 1 then monty hall choses: 2 and if we switch we get: 3\n",
            "from: [1, 2, 3] we choose: 2 then monty hall choses: 3 and if we switch we get: 1\n",
            "from: [1, 2, 3] we choose: 1 then monty hall choses: 3 and if we switch we get: 2\n",
            "from: [1, 2, 3] we choose: 2 then monty hall choses: 3 and if we switch we get: 1\n",
            "from: [1, 2, 3] we choose: 3 then monty hall choses: 2 and if we switch we get: 1\n",
            "from: [1, 2, 3] we choose: 3 then monty hall choses: 2 and if we switch we get: 1\n",
            "from: [1, 2, 3] we choose: 2 then monty hall choses: 3 and if we switch we get: 1\n",
            "from: [1, 2, 3] we choose: 2 then monty hall choses: 3 and if we switch we get: 1\n",
            "from: [1, 2, 3] we choose: 1 then monty hall choses: 2 and if we switch we get: 3\n",
            "from: [1, 2, 3] we choose: 2 then monty hall choses: 3 and if we switch we get: 1\n",
            "from: [1, 2, 3] we choose: 3 then monty hall choses: 2 and if we switch we get: 1\n",
            "from: [1, 2, 3] we choose: 2 then monty hall choses: 3 and if we switch we get: 1\n",
            "from: [1, 2, 3] we choose: 3 then monty hall choses: 2 and if we switch we get: 1\n",
            "from: [1, 2, 3] we choose: 2 then monty hall choses: 3 and if we switch we get: 1\n",
            "from: [1, 2, 3] we choose: 3 then monty hall choses: 2 and if we switch we get: 1\n",
            "from: [1, 2, 3] we choose: 3 then monty hall choses: 2 and if we switch we get: 1\n",
            "from: [1, 2, 3] we choose: 1 then monty hall choses: 2 and if we switch we get: 3\n",
            "if we stick with our decision then we win 29 times but if we change then we win 91 times\n"
          ]
        }
      ]
    },
    {
      "cell_type": "code",
      "source": [],
      "metadata": {
        "id": "OKplKQ7EoG8v"
      },
      "execution_count": 3,
      "outputs": []
    }
  ]
}